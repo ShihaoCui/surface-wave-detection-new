{
 "cells": [
  {
   "cell_type": "markdown",
   "metadata": {},
   "source": [
    "# pile range \n",
    "244 - 246"
   ]
  },
  {
   "cell_type": "code",
   "execution_count": null,
   "metadata": {},
   "outputs": [],
   "source": [
    "import matplotlib.pyplot as plt\n",
    "import numpy as np\n",
    "import matplotlib.pyplot as plt\n",
    "plt.style.use('classic')\n",
    "import pywt"
   ]
  },
  {
   "cell_type": "code",
   "execution_count": null,
   "metadata": {},
   "outputs": [],
   "source": [
    "N_group = 81\n",
    "T = 10\n",
    "T1 = 0\n",
    "T2 = 10\n",
    "Left_edge = 244\n",
    "Right_edge = 246"
   ]
  },
  {
   "cell_type": "code",
   "execution_count": null,
   "metadata": {},
   "outputs": [],
   "source": [
    "def data_load(path,N_group):\n",
    "    f = open(path)\n",
    "    lines = f.read()\n",
    "    f.close()\n",
    "    N_group = N_group\n",
    "    lines1 = lines.split(\"\\n\",(1000*T+1)*N_group-1)\n",
    "    data_list =[]\n",
    "    for element in lines1:\n",
    "        temp = element.split(' ',1)\n",
    "        temp0 = temp[1]\n",
    "        temp1 = temp0.strip()\n",
    "        data_list.append(float(temp1))\n",
    "    data = np.array(data_list)\n",
    "    return data"
   ]
  },
  {
   "cell_type": "code",
   "execution_count": null,
   "metadata": {},
   "outputs": [],
   "source": [
    "def wgn(x, snr):\n",
    "    Ps = np.sum(abs(x)**2)/len(x)\n",
    "    Pn = Ps/(10**((snr/10)))\n",
    "    noise = np.random.randn(len(x)) * np.sqrt(Pn)\n",
    "    signal_add_noise = x + noise\n",
    "    return signal_add_noise"
   ]
  },
  {
   "cell_type": "code",
   "execution_count": null,
   "metadata": {},
   "outputs": [],
   "source": [
    "# wave denosing\n",
    "def wavelet_denoising(data):\n",
    "    # wavelet = db4\n",
    "    db4 = pywt.Wavelet('db4')\n",
    "    coeffs = pywt.wavedec(data, db4)\n",
    "        # high frequencies coefficient = 0 \n",
    "    coeffs[len(coeffs)-1] *= 0\n",
    "    coeffs[len(coeffs)-2] *= 0\n",
    "        # re construct\n",
    "    meta = pywt.waverec(coeffs, db4)\n",
    "    return meta"
   ]
  },
  {
   "cell_type": "code",
   "execution_count": null,
   "metadata": {},
   "outputs": [],
   "source": [
    "import scipy\n",
    "from scipy import signal\n",
    "\n",
    "order = 5\n",
    "sampling_freq = 100\n",
    "cutoff_freq = 2\n",
    "sampling_duration = 5\n",
    "number_of_samples = sampling_freq * sampling_duration\n",
    "normalized_cutoff_freq = 2 * cutoff_freq / sampling_freq\n",
    "numerator_coeffs, denominator_coeffs = scipy.signal.butter(order, normalized_cutoff_freq)"
   ]
  },
  {
   "cell_type": "markdown",
   "metadata": {},
   "source": [
    "# Without a pile"
   ]
  },
  {
   "cell_type": "code",
   "execution_count": null,
   "metadata": {},
   "outputs": [],
   "source": [
    "snr = 30\n",
    "N_wv = 0\n",
    "\n",
    "# 'v_disp_210_230_total41_without_a_plie.txt'\n",
    "v_disp_210_230_total41_without_a_plie1 = data_load('v_disp_result_without_pile_210_230.txt',N_group)\n",
    "v_disp_210_230_total41_without_a_plie2 = v_disp_210_230_total41_without_a_plie1.reshape(N_group,1000*T+1)\n",
    "# 1200*41\n",
    "v_disp_210_230_total41_without_a_plie3 = np.transpose(v_disp_210_230_total41_without_a_plie2)\n",
    "# delete time 0\n",
    "v_disp_210_230_total41_without_a_plie = v_disp_210_230_total41_without_a_plie3\n",
    "# \n",
    "plt.plot(v_disp_210_230_total41_without_a_plie[int(1000*T1+1):int(1000*T2+1),1])\n",
    "\n",
    "plt.show()\n",
    "\n",
    "for i in range(0,v_disp_210_230_total41_without_a_plie.shape[1]):\n",
    "    v_disp_210_230_total41_without_a_plie[:,i] = wgn(v_disp_210_230_total41_without_a_plie[:,i],snr)\n",
    "plt.plot(v_disp_210_230_total41_without_a_plie[int(1000*T1+1):int(1000*T2+1),1])\n",
    "plt.show()\n",
    "\n",
    "# v_disp_210_230_total41_without_a_plie\n",
    "\n",
    "for i in range(0,v_disp_210_230_total41_without_a_plie.shape[1]):\n",
    "    y = v_disp_210_230_total41_without_a_plie[:,i]\n",
    "    for i in range(0,N_wv):\n",
    "        y = wavelet_denoising(y)\n",
    "    y = scipy.signal.lfilter(numerator_coeffs, denominator_coeffs, y)\n",
    "    v_disp_210_230_total41_without_a_plie[:,i] = y\n",
    "plt.plot(v_disp_210_230_total41_without_a_plie[int(1000*T1+1):int(1000*T2+1),1])\n",
    "plt.show()"
   ]
  },
  {
   "cell_type": "markdown",
   "metadata": {},
   "source": [
    "# with_a_plie"
   ]
  },
  {
   "cell_type": "code",
   "execution_count": null,
   "metadata": {
    "scrolled": false
   },
   "outputs": [],
   "source": [
    "# 'v_disp_210_230_total41_with_a_plie.txt'\n",
    "v_disp_210_230_total41_with_a_plie1 = data_load('v_disp_result_with_pile_210_230.txt',N_group)\n",
    "v_disp_210_230_total41_with_a_plie2 = v_disp_210_230_total41_with_a_plie1.reshape(N_group,1000*T+1)\n",
    "# 1200*41\n",
    "v_disp_210_230_total41_with_a_plie3 = np.transpose(v_disp_210_230_total41_with_a_plie2)\n",
    "# delete time 0\n",
    "v_disp_210_230_total41_with_a_plie = v_disp_210_230_total41_with_a_plie3\n",
    "# test\n",
    "plt.plot(v_disp_210_230_total41_with_a_plie[int(1000*T1+1):int(1000*T2+1),1])\n",
    "plt.show()\n",
    "\n",
    "\n",
    "for i in range(0,v_disp_210_230_total41_with_a_plie.shape[1]):\n",
    "    v_disp_210_230_total41_with_a_plie[:,i] = wgn(v_disp_210_230_total41_with_a_plie[:,i],snr)\n",
    "plt.plot(v_disp_210_230_total41_with_a_plie[int(1000*T1+1):int(1000*T2+1),1])  \n",
    "plt.show()\n",
    "\n",
    "# v_disp_210_230_total41_without_a_plie_f =np.array([,4]) \n",
    "for i in range(0,v_disp_210_230_total41_with_a_plie.shape[1]):\n",
    "    y = v_disp_210_230_total41_with_a_plie[:,i]\n",
    "    for i in range(0,N_wv):\n",
    "        y = wavelet_denoising(y)\n",
    "    y = scipy.signal.lfilter(numerator_coeffs, denominator_coeffs, y)\n",
    "    v_disp_210_230_total41_with_a_plie[:,i] = y\n",
    "plt.plot(v_disp_210_230_total41_with_a_plie[int(1000*T1+1):int(1000*T2+1),1])\n",
    "\n",
    "plt.show()"
   ]
  },
  {
   "cell_type": "markdown",
   "metadata": {},
   "source": [
    "# V data difference"
   ]
  },
  {
   "cell_type": "code",
   "execution_count": null,
   "metadata": {},
   "outputs": [],
   "source": [
    "app6 = []# positive\n",
    "app6_1 = []# negtative\n",
    "app6_3 = []# postive - negative\n",
    "app6_2 = []# max abs(n,p)\n",
    "for i in range(v_disp_210_230_total41_with_a_plie.shape[1]):\n",
    "#     plt.title(\"v displacement in the point of \"+str(210+(i)*0.5)+'m')\n",
    "    AA = v_disp_210_230_total41_with_a_plie[:,i]-v_disp_210_230_total41_without_a_plie[:,i]\n",
    "    app6.append(AA.max()) # postive max Amplitude\n",
    "    app6_1.append(AA.min()) # negative max Amplitude\n",
    "    abs_AA = abs(AA)\n",
    "    app6_3.append(abs_AA.max())# maximum abs Amplitude\n",
    "app6_2 = np.array(app6) - np.array(app6_1) # postive - negative\n",
    "\n",
    "app5 = []# positive\n",
    "app5_1 = []# negtative\n",
    "app5_3 = []# postive - negative\n",
    "app5_2 = []# max abs(n,p)\n",
    "for i in range(v_disp_210_230_total41_with_a_plie.shape[1]):\n",
    "#     plt.title(\"v displacement in the point of \"+str(210+(i)*0.5)+'m')\n",
    "    AA = v_disp_210_230_total41_without_a_plie[:,i]\n",
    "    app5.append(AA.max()) # postive max Amplitude\n",
    "    app5_1.append(AA.min()) # negative max Amplitude\n",
    "    abs_AA = abs(AA)\n",
    "    app5_3.append(abs_AA.max())# maximum abs Amplitude\n",
    "app5_2 = np.array(app5) - np.array(app5_1) # postive - negative\n",
    "\n",
    "\n",
    "plt.figure(figsize=(20, 10))\n",
    "plt.title(\"V difference\")\n",
    "app = app6_2# max abs(n,p)\n",
    "# app = app/np.array(app5_2)\n",
    "plt.plot(abs(app),c = 'r',label = \"with a pile\")# plie\n",
    "plt.vlines((Left_edge-210)/0.5, 0, abs(app)[int((Left_edge-210)/0.5)],colors = \"r\", linestyles = \"dashed\")\n",
    "plt.vlines((Right_edge-210)/0.5, 0,abs(app)[int((Right_edge-210)/0.5)],colors = \"r\", linestyles = \"dashed\")\n",
    "x = np.linspace(0, N_group, num=N_group+1)\n",
    "label = ['210','210.5','211','211.5','212','212.5','213','213.5','214','214.5',\n",
    "          '215','215.5','216','216.5','217','217.5','218','218.5','219','219.5',\n",
    "          '220','220.5','221','221.5','222','222.5','223','223.5','224','224.5',\n",
    "          '225','225.5','226','226.5','227','227.5','218','228.5','229','229.5',\n",
    "          '230','230.5','231','231.5','232','232.5','233','233.5','234','234.5',\n",
    "          '235','235.5','236','236.5','237','237.5','238','238.5','239','239.5',\n",
    "          '240','240.5','241','241.5','242','242.5','243','243.5','244','244.5',\n",
    "          '245','245.5','246','246.5','247','247.5','248','248.5','249','249.5',\n",
    "          '250']\n",
    "plt.xticks(x,label,rotation='vertical')\n",
    "plt.show()"
   ]
  },
  {
   "cell_type": "code",
   "execution_count": null,
   "metadata": {},
   "outputs": [],
   "source": [
    "app7 = []# positive\n",
    "app7_1 = []# negtative\n",
    "app7_3 = []# max abs(n,p)\n",
    "app7_2 = []# postive - negative\n",
    "for i in range(v_disp_210_230_total41_with_a_plie.shape[1]):\n",
    "#     plt.title(\"v displacement in the point of \"+str(210+(i)*0.5)+'m')\n",
    "    AA = v_disp_210_230_total41_with_a_plie[:,i]-v_disp_210_230_total41_without_a_plie[:,i]\n",
    "    app7.append(AA.max()) # postive max Amplitude\n",
    "    app7_1.append(AA.min()) # negative max Amplitude\n",
    "    abs_AA = abs(AA)\n",
    "    app7_3.append(abs_AA.max())# maximum abs Amplitude\n",
    "app7_2 = np.array(app7) - np.array(app7_1) # postive - negative\n",
    "\n",
    "\n",
    "plt.figure(figsize=(20, 10))\n",
    "plt.title(\"V difference\")\n",
    "app = app7_3/np.array(app5_3)# max abs(n,p)\n",
    "plt.plot(np.abs(app),c = 'r',label = \"with a pile\")# plie\n",
    "plt.vlines((Left_edge-210)/0.5, 0, np.abs(app)[int((Left_edge-210)/0.5)],colors = \"r\", linestyles = \"dashed\")\n",
    "plt.vlines((Right_edge-210)/0.5, 0,np.abs(app)[int((Right_edge-210)/0.5)],colors = \"r\", linestyles = \"dashed\")\n",
    "x = np.linspace(0, N_group, num=N_group+1)\n",
    "label = ['210','210.5','211','211.5','212','212.5','213','213.5','214','214.5',\n",
    "          '215','215.5','216','216.5','217','217.5','218','218.5','219','219.5',\n",
    "          '220','220.5','221','221.5','222','222.5','223','223.5','224','224.5',\n",
    "          '225','225.5','226','226.5','227','227.5','218','228.5','229','229.5',\n",
    "          '230','230.5','231','231.5','232','232.5','233','233.5','234','234.5',\n",
    "          '235','235.5','236','236.5','237','237.5','238','238.5','239','239.5',\n",
    "          '240','240.5','241','241.5','242','242.5','243','243.5','244','244.5',\n",
    "          '245','245.5','246','246.5','247','247.5','248','248.5','249','249.5',\n",
    "          '250']\n",
    "plt.xticks(x,label,rotation='vertical')\n",
    "plt.show()"
   ]
  },
  {
   "cell_type": "code",
   "execution_count": null,
   "metadata": {
    "scrolled": true
   },
   "outputs": [],
   "source": [
    "import matplotlib.pyplot as plt\n",
    "import numpy as np\n",
    "import matplotlib.pyplot as plt\n",
    "plt.style.use('classic')\n",
    "plt.figure(figsize=(20, 10))\n",
    "import pywt\n",
    "from scipy.stats import entropy\n",
    "from pandas import read_csv\n",
    "from pyentrp import entropy as ent\n",
    "from sklearn.neighbors import NearestNeighbors\n",
    "from scipy import stats \n",
    "\n",
    "def Feature_extraction(Data):\n",
    "#     Data: signal dimension * sensor number\n",
    "    f1 = []\n",
    "    f2 = []\n",
    "    f3 = []\n",
    "    f4 = []\n",
    "    f5 = []\n",
    "    f6 = []\n",
    "    f7 = []\n",
    "    f8 = []\n",
    "    f9 = []\n",
    "    f10 = []\n",
    "    f11 = []\n",
    "    f12 = []\n",
    "    f13 = []\n",
    "    f14 = []\n",
    "    f15 = []\n",
    "    f16 = []\n",
    "    f17 = []\n",
    "    f18 = []\n",
    "    f19 = []\n",
    "    f20 = []\n",
    "    f21 = []\n",
    "    f22 = []\n",
    "    f23 = []\n",
    "    for i in range(Data.shape[1]):\n",
    "        data = Data[:,i]\n",
    "        Xr = np.mean(np.sqrt(abs(data)))*np.mean(np.sqrt(abs(data))) \n",
    "        Xmean = np.mean(abs(data)) \n",
    "        Xrms = np.sqrt(np.dot(data,data)/len(data)) \n",
    "        Xp = max(max(data), -min(data))\n",
    "        \n",
    "        f1.append(max(data))\n",
    "        f2.append(abs(min(data)))\n",
    "        f3.append(np.mean(data))\n",
    "        f4.append(max(data)-min(data))\n",
    "        f5.append(Xp)\n",
    "        f6.append(Xr) \n",
    "        f7.append(Xrms) \n",
    "        f8.append(Xmean)\n",
    "        f9.append(np.var(data)) \n",
    "        f10.append(np.std(data))\n",
    "        f11.append((np.dot(data,data))/len(data))\n",
    "        f12.append(Xp/Xrms) \n",
    "        f13.append(stats.kurtosis(data)) \n",
    "        f14.append(stats.skew(data)) \n",
    "        f15.append(Xp/Xr) \n",
    "        f16.append(Xp/np.mean(abs(data))) \n",
    "        f17.append(Xrms/Xmean) \n",
    "#         f18.append(ent.sample_entropy(data, 2, 0.2 * np.std(data))[0])\n",
    "        \n",
    "        st = 0.01\n",
    "        fs = 1/st \n",
    "        N = len(data) \n",
    "        y = 2*abs(np.fft.fft(data))/N \n",
    "        f = np.array([(i+1)*fs/N for i in range(N)]) \n",
    "        FC = np.dot(f,y)/np.sum(y) \n",
    "        MSF = np.dot(np.multiply(f,f),y)/np.sum(y) \n",
    "        RMSF = np.sqrt(MSF) \n",
    "        VF = np.dot(np.multiply(f-FC,f-FC),y)/np.sum(y); \n",
    "        RVF = np.sqrt(VF) \n",
    "        f19.append(FC) \n",
    "        f20.append(MSF) \n",
    "        f21.append(RMSF)\n",
    "        f22.append(VF) \n",
    "        f23.append(RVF)\n",
    "#     Fap = np.array([f1,f2,f3,f4,f5,f6,f7,f8,f9,f10,f11,f12,f13,f14,f15,f16,f17,f18,f19,f20,f21,f22,f23])\n",
    "    Fap = np.array([f1,f2,f3,f4,f5,f6,f7,f8,f9,f10,f11,f12,f13,f14,f15,f16,f17,f19,f20,f21,f22,f23])\n",
    "    return Fap\n",
    "def PLOT(data,Left_edge,Right_edge,N_group,Title,i):\n",
    "    temp = data\n",
    "    plt.figure(figsize=(30,15))\n",
    "    plt.title(Title+str(i+1),color  = 'b')\n",
    "    plt.plot(temp,c = 'b',label = \"with a pile\")# plie\n",
    "    plt.vlines((Left_edge-210)/0.5, 0, (temp)[int((Left_edge-210)/0.5)],colors = \"r\", linestyles = \"dashed\")\n",
    "    plt.vlines((Right_edge-210)/0.5, 0,(temp)[int((Right_edge-210)/0.5)],colors = \"r\", linestyles = \"dashed\")\n",
    "    x = np.linspace(0, N_group, num=N_group+1)\n",
    "    label = []\n",
    "    for i in range(N_group):\n",
    "        label.append(str(i*0.5+210))\n",
    "    plt.xticks(x,label,rotation='vertical')\n",
    "    plt.show()\n",
    "    return plt\n",
    "\n",
    "# # Pile data\n",
    "Fap1 = Feature_extraction(v_disp_210_230_total41_with_a_plie)\n",
    "Fap0 = Feature_extraction(v_disp_210_230_total41_without_a_plie)\n",
    "Fap2 = Feature_extraction(v_disp_210_230_total41_without_a_plie-v_disp_210_230_total41_with_a_plie)\n",
    "\n",
    "data = Fap2\n",
    "for i in range(Fap2.shape[0]):\n",
    "    PLOT((data[i,:]-np.min(data[i,:]))/(np.max(data[i,:]-np.min(data[i,:]))),Left_edge,Right_edge,N_group,\"Feature\",i)\n",
    "    \n"
   ]
  },
  {
   "cell_type": "code",
   "execution_count": null,
   "metadata": {
    "scrolled": true
   },
   "outputs": [],
   "source": [
    "Fap3 = Fap1 - Fap0\n",
    "data = Fap3\n",
    "for i in range(Fap1.shape[0]):\n",
    "    PLOT((data[i,:]-np.min(data[i,:]))/(np.max(data[i,:]-np.min(data[i,:]))),Left_edge,Right_edge,N_group,\"Feature\",i)"
   ]
  },
  {
   "cell_type": "code",
   "execution_count": null,
   "metadata": {
    "scrolled": true
   },
   "outputs": [],
   "source": [
    "# Select_Fap1 = Fap1[[0,1,3,4,5,6,7,8,9,10,11,12,14,15,16,18,19],:]\n",
    "# data = Select_Fap1\n",
    "# for i in range(data.shape[0]):\n",
    "#     PLOT((data[i,:]-np.min(data[i,:]))/(np.max(data[i,:]-np.min(data[i,:]))),Left_edge,Right_edge,N_group,\"Feature\",i)"
   ]
  },
  {
   "cell_type": "code",
   "execution_count": null,
   "metadata": {
    "scrolled": true
   },
   "outputs": [],
   "source": [
    "# Select_Fap2 = Select_Fap1[[0,3,5,7,8,9,10,11,12,13,14,15,16],:]\n",
    "# data = Select_Fap2\n",
    "# for i in range(data.shape[0]):\n",
    "#     PLOT((data[i,:]-np.min(data[i,:]))/(np.max(data[i,:]-np.min(data[i,:]))),Left_edge,Right_edge,N_group,\"Feature\",i)"
   ]
  },
  {
   "cell_type": "code",
   "execution_count": null,
   "metadata": {
    "scrolled": true
   },
   "outputs": [],
   "source": [
    "Select_Fap = Fap1[[4,6,8,9,10],:]\n",
    "data = Select_Fap\n",
    "for i in range(data.shape[0]):\n",
    "    PLOT((data[i,:]-np.min(data[i,:]))/(np.max(data[i,:]-np.min(data[i,:]))),Left_edge,Right_edge,N_group,\"Feature\",i)"
   ]
  }
 ],
 "metadata": {
  "kernelspec": {
   "display_name": "Python 3",
   "language": "python",
   "name": "python3"
  },
  "language_info": {
   "codemirror_mode": {
    "name": "ipython",
    "version": 3
   },
   "file_extension": ".py",
   "mimetype": "text/x-python",
   "name": "python",
   "nbconvert_exporter": "python",
   "pygments_lexer": "ipython3",
   "version": "3.8.3"
  }
 },
 "nbformat": 4,
 "nbformat_minor": 4
}
